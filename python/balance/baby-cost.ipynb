{
 "cells": [
  {
   "cell_type": "code",
   "execution_count": 1,
   "metadata": {
    "collapsed": false
   },
   "outputs": [
    {
     "data": {
      "text/html": [
       "<div>\n",
       "<style>\n",
       "    .dataframe thead tr:only-child th {\n",
       "        text-align: right;\n",
       "    }\n",
       "\n",
       "    .dataframe thead th {\n",
       "        text-align: left;\n",
       "    }\n",
       "\n",
       "    .dataframe tbody tr th {\n",
       "        vertical-align: top;\n",
       "    }\n",
       "</style>\n",
       "<table border=\"1\" class=\"dataframe\">\n",
       "  <thead>\n",
       "    <tr style=\"text-align: right;\">\n",
       "      <th></th>\n",
       "      <th>日期</th>\n",
       "      <th>金额</th>\n",
       "      <th>项目</th>\n",
       "      <th>备注</th>\n",
       "    </tr>\n",
       "  </thead>\n",
       "  <tbody>\n",
       "    <tr>\n",
       "      <th>0</th>\n",
       "      <td>2016-09-16</td>\n",
       "      <td>28.00</td>\n",
       "      <td>药品</td>\n",
       "      <td>叶酸</td>\n",
       "    </tr>\n",
       "    <tr>\n",
       "      <th>1</th>\n",
       "      <td>2016-09-17</td>\n",
       "      <td>12.00</td>\n",
       "      <td>挂号</td>\n",
       "      <td>NaN</td>\n",
       "    </tr>\n",
       "    <tr>\n",
       "      <th>2</th>\n",
       "      <td>2016-09-17</td>\n",
       "      <td>225.36</td>\n",
       "      <td>孕检</td>\n",
       "      <td>NaN</td>\n",
       "    </tr>\n",
       "    <tr>\n",
       "      <th>3</th>\n",
       "      <td>2016-09-18</td>\n",
       "      <td>5.00</td>\n",
       "      <td>挂号</td>\n",
       "      <td>NaN</td>\n",
       "    </tr>\n",
       "    <tr>\n",
       "      <th>4</th>\n",
       "      <td>2016-09-20</td>\n",
       "      <td>310.28</td>\n",
       "      <td>孕检</td>\n",
       "      <td>NaN</td>\n",
       "    </tr>\n",
       "  </tbody>\n",
       "</table>\n",
       "</div>"
      ],
      "text/plain": [
       "<div>\n",
       "<style>\n",
       "    .dataframe thead tr:only-child th {\n",
       "        text-align: right;\n",
       "    }\n",
       "\n",
       "    .dataframe thead th {\n",
       "        text-align: left;\n",
       "    }\n",
       "\n",
       "    .dataframe tbody tr th {\n",
       "        vertical-align: top;\n",
       "    }\n",
       "</style>\n",
       "<table border=\"1\" class=\"dataframe\">\n",
       "  <thead>\n",
       "    <tr style=\"text-align: right;\">\n",
       "      <th></th>\n",
       "      <th>日期</th>\n",
       "      <th>金额</th>\n",
       "      <th>项目</th>\n",
       "      <th>备注</th>\n",
       "    </tr>\n",
       "  </thead>\n",
       "  <tbody>\n",
       "    <tr>\n",
       "      <th>0</th>\n",
       "      <td>2016-09-16</td>\n",
       "      <td>28.00</td>\n",
       "      <td>药品</td>\n",
       "      <td>叶酸</td>\n",
       "    </tr>\n",
       "    <tr>\n",
       "      <th>1</th>\n",
       "      <td>2016-09-17</td>\n",
       "      <td>12.00</td>\n",
       "      <td>挂号</td>\n",
       "      <td>NaN</td>\n",
       "    </tr>\n",
       "    <tr>\n",
       "      <th>2</th>\n",
       "      <td>2016-09-17</td>\n",
       "      <td>225.36</td>\n",
       "      <td>孕检</td>\n",
       "      <td>NaN</td>\n",
       "    </tr>\n",
       "    <tr>\n",
       "      <th>3</th>\n",
       "      <td>2016-09-18</td>\n",
       "      <td>5.00</td>\n",
       "      <td>挂号</td>\n",
       "      <td>NaN</td>\n",
       "    </tr>\n",
       "    <tr>\n",
       "      <th>4</th>\n",
       "      <td>2016-09-20</td>\n",
       "      <td>310.28</td>\n",
       "      <td>孕检</td>\n",
       "      <td>NaN</td>\n",
       "    </tr>\n",
       "  </tbody>\n",
       "</table>\n",
       "</div>"
      ]
     },
     "execution_count": 1,
     "metadata": {},
     "output_type": "execute_result"
    }
   ],
   "source": [
    "import pandas as pd\n",
    "import matplotlib.pyplot as plt\n",
    "from datetime import datetime\n",
    "%matplotlib inline\n",
    "\n",
    "# Prepare data\n",
    "df = pd.read_csv('生育花销.csv')\n",
    "df['日期'] = df['日期'].apply(lambda x: x[0:10])\n",
    "df.head()"
   ]
  },
  {
   "cell_type": "code",
   "execution_count": 2,
   "metadata": {},
   "outputs": [
    {
     "name": "stdout",
     "output_type": "stream",
     "text": [
      "生育总天数 =  286\n总花销 =  31796.799999999996\n花销笔数 =  87\n每笔平均花销 =  365.4804597701149\n日均花销 =  111.17762237762236\n出生前总花销 =  10268.11\n出生前日均花销 =  41.910653061224494\n出生前每笔平均花销 =  233.36613636363637\n"
     ]
    }
   ],
   "source": [
    "def days_in(start_date, end_date):\n",
    "    return (datetime.strptime(end_date, '%Y-%m-%d') - datetime.strptime(start_date, '%Y-%m-%d')). days\n",
    "\n",
    "days = days_in(df['日期'].min(), df['日期'].max())\n",
    "grand_total = df['金额'].sum()\n",
    "before_born = df[(df.iloc[:, 0].le('2017-05-15 23:59:59'))]\n",
    "before_born_total = before_born.iloc[:, 1].sum()\n",
    "daily_cost = grand_total / days\n",
    "days_before_born = days_in(df['日期'].min(), '2017-05-19')\n",
    "\n",
    "print('生育总天数 = ', days)\n",
    "print('总花销 = ', grand_total)\n",
    "print('花销笔数 = ', df.shape[0])\n",
    "print('每笔平均花销 = ', grand_total / df.shape[0])\n",
    "print('日均花销 = ', daily_cost)\n",
    "print('出生前总花销 = ', before_born_total)\n",
    "print('出生前日均花销 = ', before_born_total / days_before_born)\n",
    "print('出生前每笔平均花销 = ', before_born_total / before_born.shape[0])"
   ]
  },
  {
   "cell_type": "code",
   "execution_count": 3,
   "metadata": {},
   "outputs": [
    {
     "data": {
      "text/plain": [
       "[<matplotlib.lines.Line2D at 0x1062abcc0>]"
      ]
     },
     "execution_count": 3,
     "metadata": {},
     "output_type": "execute_result"
    },
    {
     "data": {
      "image/png": "[encoded data removed]",
      "text/plain": [
       "<matplotlib.figure.Figure at 0x10f4b1cc0>"
      ]
     },
     "metadata": {},
     "output_type": "display_data"
    }
   ],
   "source": [
    "daily_avg = df.iloc[:, 0].apply(lambda x: daily_cost)\n",
    "trans_avg = daily_avg.apply(lambda x: grand_total / df.shape[0])\n",
    "plt.plot(df.iloc[:, 1])\n",
    "plt.plot(daily_avg)\n",
    "plt.plot(trans_avg)"
   ]
  },
  {
   "cell_type": "code",
   "execution_count": 4,
   "metadata": {},
   "outputs": [
    {
     "data": {
      "text/plain": [
       "[<matplotlib.lines.Line2D at 0x112a716d8>]"
      ]
     },
     "execution_count": 4,
     "metadata": {},
     "output_type": "execute_result"
    },
    {
     "data": {
      "image/png": "[encoded data removed]",
      "text/plain": [
       "<matplotlib.figure.Figure at 0x112903d30>"
      ]
     },
     "metadata": {},
     "output_type": "display_data"
    }
   ],
   "source": [
    "avg_before_born = before_born.iloc[:, 0].apply(lambda x : before_born_total / days_before_born)\n",
    "trans_avg_before_born = avg_before_born.apply(lambda x: before_born_total / before_born.shape[0])\n",
    "plt.plot(before_born.iloc[:, 1])\n",
    "plt.plot(avg_before_born)\n",
    "plt.plot(trans_avg_before_born)"
   ]
  },
  {
   "cell_type": "code",
   "execution_count": 67,
   "metadata": {},
   "outputs": [],
   "source": [
    ""
   ]
  },
  {
   "cell_type": "code",
   "execution_count": null,
   "metadata": {},
   "outputs": [],
   "source": [
    ""
   ]
  }
 ],
 "metadata": {
  "kernelspec": {
   "display_name": "Python 2",
   "language": "python",
   "name": "python2"
  },
  "language_info": {
   "codemirror_mode": {
    "name": "ipython",
    "version": 2.0
   },
   "file_extension": ".py",
   "mimetype": "text/x-python",
   "name": "python",
   "nbconvert_exporter": "python",
   "pygments_lexer": "ipython2",
   "version": "2.7.6"
  }
 },
 "nbformat": 4,
 "nbformat_minor": 0
}