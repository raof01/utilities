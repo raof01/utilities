{
 "cells": [
  {
   "cell_type": "code",
   "execution_count": 6,
   "metadata": {
    "collapsed": false
   },
   "outputs": [],
   "source": [
    "import pandas as pd\n",
    "import matplotlib.pyplot as plt\n",
    "#import numpy as np\n",
    "from datetime import datetime\n",
    "%matplotlib inline\n",
    "\n",
    "def days_in(start_date, end_date):\n",
    "    return (datetime.strptime(end_date, '%Y-%m-%d') - datetime.strptime(start_date, '%Y-%m-%d')). days\n",
    "\n",
    "df = pd.read_csv('weight-data.csv')\n",
    "df = df.sort_values(by='日期')\n",
    "ds = days_in(df['日期'].min(), df['日期'].max()) + 1"
   ]
  },
  {
   "cell_type": "code",
   "execution_count": 7,
   "metadata": {},
   "outputs": [],
   "source": [
    "avg = (df['体重'].max() - df['体重'].min()) / ds\n",
    "avgs = pd.Series([avg for x in range(ds)])"
   ]
  },
  {
   "cell_type": "code",
   "execution_count": 8,
   "metadata": {},
   "outputs": [
    {
     "data": {
      "text/plain": [
       "[<matplotlib.lines.Line2D at 0x113b020b8>]"
      ]
     },
     "execution_count": 8,
     "metadata": {},
     "output_type": "execute_result"
    },
    {
     "data": {
      "image/png": "[encoded data removed]",
      "text/plain": [
       "<matplotlib.figure.Figure at 0x116d34080>"
      ]
     },
     "metadata": {},
     "output_type": "display_data"
    }
   ],
   "source": [
    "p_avgs = pd.Series()\n",
    "interpolated = pd.Series()\n",
    "for i in range(2, df.shape[0] + 1):\n",
    "    (w0, ) = df[i - 2:i - 1]['体重']\n",
    "    (w1, ) = df[i - 1:i]['体重']\n",
    "    (s, ) = df[i - 2:i - 1]['日期']\n",
    "    (e, ) = df[i - 1:i]['日期']\n",
    "    days = days_in(s, e) + 1\n",
    "    tmp_avg = (w1 - w0) / days\n",
    "    tmp_avgs = pd.Series([tmp_avg for x in range(days + 1)])\n",
    "    p_avgs = p_avgs.append(tmp_avgs, ignore_index=True)\n",
    "    \n",
    "    tmp_inc = pd.Series([w0 + y * tmp_avg for y in range(days)])\n",
    "    interpolated = interpolated.append(tmp_inc , ignore_index=True)\n",
    "\n",
    "plt.grid()\n",
    "plt.plot(p_avgs)\n",
    "plt.plot(avgs)"
   ]
  },
  {
   "cell_type": "code",
   "execution_count": 9,
   "metadata": {},
   "outputs": [
    {
     "data": {
      "text/plain": [
       "[<matplotlib.lines.Line2D at 0x11a137908>]"
      ]
     },
     "execution_count": 9,
     "metadata": {},
     "output_type": "execute_result"
    },
    {
     "data": {
      "image/png": "[encoded data removed]",
      "text/plain": [
       "<matplotlib.figure.Figure at 0x116d31780>"
      ]
     },
     "metadata": {},
     "output_type": "display_data"
    }
   ],
   "source": [
    "interpolated = interpolated.append(pd.Series([df['体重'][df.shape[0] - 1]]), ignore_index=True)\n",
    "#interpolated\n",
    "plt.grid()\n",
    "plt.plot(interpolated)"
   ]
  },
  {
   "cell_type": "code",
   "execution_count": null,
   "metadata": {},
   "outputs": [],
   "source": [
    ""
   ]
  }
 ],
 "metadata": {
  "kernelspec": {
   "display_name": "Python 2",
   "language": "python",
   "name": "python2"
  },
  "language_info": {
   "codemirror_mode": {
    "name": "ipython",
    "version": 2.0
   },
   "file_extension": ".py",
   "mimetype": "text/x-python",
   "name": "python",
   "nbconvert_exporter": "python",
   "pygments_lexer": "ipython2",
   "version": "2.7.6"
  }
 },
 "nbformat": 4,
 "nbformat_minor": 0
}